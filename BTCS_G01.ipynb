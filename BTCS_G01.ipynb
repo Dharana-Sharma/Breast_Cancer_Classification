{
 "cells": [
  {
   "cell_type": "markdown",
   "id": "675c9461",
   "metadata": {},
   "source": [
    "# USING PREDICTIVE ANALYSIS TO PREDICT DIAGNOSIS OF A BREAST TUMOR\n"
   ]
  },
  {
   "cell_type": "markdown",
   "id": "f476e6dd",
   "metadata": {},
   "source": [
    "# Part_1: Problem Statement"
   ]
  },
  {
   "cell_type": "markdown",
   "id": "fa8c3caa",
   "metadata": {},
   "source": [
    "Breast cancer represents the predominant form of neoplasia afflicting women, constituting nearly a third of all female malignancies diagnosed in the United States, and ranking as the second most frequent cause of cancer-related mortality among women. Its pathogenesis stems from anomalous cellular proliferation within the mammary gland, which manifests in the form of an anatomical mass, or tumor. Notably, it is imperative to discern that the presence of a tumor does not necessarily connote the existence of cancer, as these growths may exhibit benign, pre-malignant, or malignant characteristics. Common modalities employed to diagnose breast cancer comprise magnetic resonance imaging, mammography, ultrasonography, and biopsy. "
   ]
  },
  {
   "cell_type": "markdown",
   "id": "65008ba5",
   "metadata": {},
   "source": [
    "## 1.1 Expected outcome"
   ]
  },
  {
   "cell_type": "markdown",
   "id": "57602f22",
   "metadata": {},
   "source": [
    "The onset of breast cancer is commonly diagnosed through the implementation of a fine-needle aspiration (FNA) test, which involves the swift and straightforward extraction of fluid or cells from a breast lesion or cyst (including lumps, sores, or swellings) by means of a slender needle akin to that of a blood sample needle. In light of this diagnostic modality, a model capable of ascertaining the tumor's classification can be constructed, incorporating two distinct training categories as follows:\n",
    "\n",
    "1. Malignant (Cancerous) - Characterized by the presence of malignant cellular structures.\n",
    "2. Benign (Not Cancerous) - Manifesting the absence of malignant cellular structures or presenting non-cancerous cell traits.\n",
    "By virtue of this classification system, the model can accurately identify the tumor type, allowing healthcare practitioners to implement appropriate therapeutic strategies for optimal patient care."
   ]
  },
  {
   "cell_type": "markdown",
   "id": "e1d24cf7",
   "metadata": {},
   "source": [
    "## 1.2 Objective"
   ]
  },
  {
   "cell_type": "markdown",
   "id": "dce8fb40",
   "metadata": {},
   "source": [
    "As the labels within the data are categorical, falling under two discrete categories, namely malignant or benign, the machine learning task at hand entails classification. \n",
    "\n",
    "The primary objective is to differentiate between benign and malignant breast cancer and prognosticate the likelihood of recurrence or non-recurrence of malignant instances after a specified duration. To achieve this, machine learning classification techniques have been implemented to develop a function that can precisely predict the categorical class of novel inputs."
   ]
  },
  {
   "cell_type": "markdown",
   "id": "01953986",
   "metadata": {},
   "source": [
    "## 1.3 Identify data sources"
   ]
  },
  {
   "cell_type": "markdown",
   "id": "8d9a6d78",
   "metadata": {},
   "source": [
    " The Wisconsin Breast Cancer Dataset is available via [BreastCancer](https://archive.ics.uci.edu/ml/datasets/Breast+Cancer+Wisconsin+%28Diagnostic%29 ). Also can be found on UCI Machine Learning Repository. The dataset contains 569 samples of malignant and benign tumor cells.\n",
    "\n",
    "- The first two columns in the dataset store the unique ID numbers of the samples and the corresponding diagnosis (M = malignant, B = benign), respectively.\n",
    "- The columns 3-32 contain 30 real-value features that have been computed from digitized images of the cell nuclei, which can be used to build a model to predict whether a tumor is benign or malignant."
   ]
  },
  {
   "cell_type": "markdown",
   "id": "f9d367cd",
   "metadata": {},
   "source": [
    "### Getting Started: Load libraries and set options"
   ]
  },
  {
   "cell_type": "code",
   "execution_count": 1,
   "id": "4fd4f61b",
   "metadata": {},
   "outputs": [
    {
     "ename": "FileNotFoundError",
     "evalue": "[Errno 2] No such file or directory: 'C:\\\\Users\\\\SOURISH RASTOGI\\\\Downloads\\\\data.csv'",
     "output_type": "error",
     "traceback": [
      "\u001b[1;31m---------------------------------------------------------------------------\u001b[0m",
      "\u001b[1;31mFileNotFoundError\u001b[0m                         Traceback (most recent call last)",
      "Cell \u001b[1;32mIn[1], line 10\u001b[0m\n\u001b[0;32m      7\u001b[0m \u001b[38;5;28;01mfrom\u001b[39;00m \u001b[38;5;21;01mstatistics\u001b[39;00m \u001b[38;5;28;01mimport\u001b[39;00m mean\n\u001b[0;32m      9\u001b[0m \u001b[38;5;66;03m# Read the file \"data.csv\" and print the contents.\u001b[39;00m\n\u001b[1;32m---> 10\u001b[0m df \u001b[38;5;241m=\u001b[39m \u001b[43mpd\u001b[49m\u001b[38;5;241;43m.\u001b[39;49m\u001b[43mread_csv\u001b[49m\u001b[43m(\u001b[49m\u001b[38;5;124;43mr\u001b[39;49m\u001b[38;5;124;43m'\u001b[39;49m\u001b[38;5;124;43mC:\u001b[39;49m\u001b[38;5;124;43m\\\u001b[39;49m\u001b[38;5;124;43mUsers\u001b[39;49m\u001b[38;5;124;43m\\\u001b[39;49m\u001b[38;5;124;43mSOURISH RASTOGI\u001b[39;49m\u001b[38;5;124;43m\\\u001b[39;49m\u001b[38;5;124;43mDownloads\u001b[39;49m\u001b[38;5;124;43m\\\u001b[39;49m\u001b[38;5;124;43mdata.csv\u001b[39;49m\u001b[38;5;124;43m'\u001b[39;49m\u001b[43m)\u001b[49m\n",
      "File \u001b[1;32m~\\Desktop\\heart-disease\\env\\lib\\site-packages\\pandas\\util\\_decorators.py:211\u001b[0m, in \u001b[0;36mdeprecate_kwarg.<locals>._deprecate_kwarg.<locals>.wrapper\u001b[1;34m(*args, **kwargs)\u001b[0m\n\u001b[0;32m    209\u001b[0m     \u001b[38;5;28;01melse\u001b[39;00m:\n\u001b[0;32m    210\u001b[0m         kwargs[new_arg_name] \u001b[38;5;241m=\u001b[39m new_arg_value\n\u001b[1;32m--> 211\u001b[0m \u001b[38;5;28;01mreturn\u001b[39;00m func(\u001b[38;5;241m*\u001b[39margs, \u001b[38;5;241m*\u001b[39m\u001b[38;5;241m*\u001b[39mkwargs)\n",
      "File \u001b[1;32m~\\Desktop\\heart-disease\\env\\lib\\site-packages\\pandas\\util\\_decorators.py:331\u001b[0m, in \u001b[0;36mdeprecate_nonkeyword_arguments.<locals>.decorate.<locals>.wrapper\u001b[1;34m(*args, **kwargs)\u001b[0m\n\u001b[0;32m    325\u001b[0m \u001b[38;5;28;01mif\u001b[39;00m \u001b[38;5;28mlen\u001b[39m(args) \u001b[38;5;241m>\u001b[39m num_allow_args:\n\u001b[0;32m    326\u001b[0m     warnings\u001b[38;5;241m.\u001b[39mwarn(\n\u001b[0;32m    327\u001b[0m         msg\u001b[38;5;241m.\u001b[39mformat(arguments\u001b[38;5;241m=\u001b[39m_format_argument_list(allow_args)),\n\u001b[0;32m    328\u001b[0m         \u001b[38;5;167;01mFutureWarning\u001b[39;00m,\n\u001b[0;32m    329\u001b[0m         stacklevel\u001b[38;5;241m=\u001b[39mfind_stack_level(),\n\u001b[0;32m    330\u001b[0m     )\n\u001b[1;32m--> 331\u001b[0m \u001b[38;5;28;01mreturn\u001b[39;00m func(\u001b[38;5;241m*\u001b[39margs, \u001b[38;5;241m*\u001b[39m\u001b[38;5;241m*\u001b[39mkwargs)\n",
      "File \u001b[1;32m~\\Desktop\\heart-disease\\env\\lib\\site-packages\\pandas\\io\\parsers\\readers.py:950\u001b[0m, in \u001b[0;36mread_csv\u001b[1;34m(filepath_or_buffer, sep, delimiter, header, names, index_col, usecols, squeeze, prefix, mangle_dupe_cols, dtype, engine, converters, true_values, false_values, skipinitialspace, skiprows, skipfooter, nrows, na_values, keep_default_na, na_filter, verbose, skip_blank_lines, parse_dates, infer_datetime_format, keep_date_col, date_parser, dayfirst, cache_dates, iterator, chunksize, compression, thousands, decimal, lineterminator, quotechar, quoting, doublequote, escapechar, comment, encoding, encoding_errors, dialect, error_bad_lines, warn_bad_lines, on_bad_lines, delim_whitespace, low_memory, memory_map, float_precision, storage_options)\u001b[0m\n\u001b[0;32m    935\u001b[0m kwds_defaults \u001b[38;5;241m=\u001b[39m _refine_defaults_read(\n\u001b[0;32m    936\u001b[0m     dialect,\n\u001b[0;32m    937\u001b[0m     delimiter,\n\u001b[1;32m   (...)\u001b[0m\n\u001b[0;32m    946\u001b[0m     defaults\u001b[38;5;241m=\u001b[39m{\u001b[38;5;124m\"\u001b[39m\u001b[38;5;124mdelimiter\u001b[39m\u001b[38;5;124m\"\u001b[39m: \u001b[38;5;124m\"\u001b[39m\u001b[38;5;124m,\u001b[39m\u001b[38;5;124m\"\u001b[39m},\n\u001b[0;32m    947\u001b[0m )\n\u001b[0;32m    948\u001b[0m kwds\u001b[38;5;241m.\u001b[39mupdate(kwds_defaults)\n\u001b[1;32m--> 950\u001b[0m \u001b[38;5;28;01mreturn\u001b[39;00m \u001b[43m_read\u001b[49m\u001b[43m(\u001b[49m\u001b[43mfilepath_or_buffer\u001b[49m\u001b[43m,\u001b[49m\u001b[43m \u001b[49m\u001b[43mkwds\u001b[49m\u001b[43m)\u001b[49m\n",
      "File \u001b[1;32m~\\Desktop\\heart-disease\\env\\lib\\site-packages\\pandas\\io\\parsers\\readers.py:605\u001b[0m, in \u001b[0;36m_read\u001b[1;34m(filepath_or_buffer, kwds)\u001b[0m\n\u001b[0;32m    602\u001b[0m _validate_names(kwds\u001b[38;5;241m.\u001b[39mget(\u001b[38;5;124m\"\u001b[39m\u001b[38;5;124mnames\u001b[39m\u001b[38;5;124m\"\u001b[39m, \u001b[38;5;28;01mNone\u001b[39;00m))\n\u001b[0;32m    604\u001b[0m \u001b[38;5;66;03m# Create the parser.\u001b[39;00m\n\u001b[1;32m--> 605\u001b[0m parser \u001b[38;5;241m=\u001b[39m TextFileReader(filepath_or_buffer, \u001b[38;5;241m*\u001b[39m\u001b[38;5;241m*\u001b[39mkwds)\n\u001b[0;32m    607\u001b[0m \u001b[38;5;28;01mif\u001b[39;00m chunksize \u001b[38;5;129;01mor\u001b[39;00m iterator:\n\u001b[0;32m    608\u001b[0m     \u001b[38;5;28;01mreturn\u001b[39;00m parser\n",
      "File \u001b[1;32m~\\Desktop\\heart-disease\\env\\lib\\site-packages\\pandas\\io\\parsers\\readers.py:1442\u001b[0m, in \u001b[0;36mTextFileReader.__init__\u001b[1;34m(self, f, engine, **kwds)\u001b[0m\n\u001b[0;32m   1439\u001b[0m     \u001b[38;5;28mself\u001b[39m\u001b[38;5;241m.\u001b[39moptions[\u001b[38;5;124m\"\u001b[39m\u001b[38;5;124mhas_index_names\u001b[39m\u001b[38;5;124m\"\u001b[39m] \u001b[38;5;241m=\u001b[39m kwds[\u001b[38;5;124m\"\u001b[39m\u001b[38;5;124mhas_index_names\u001b[39m\u001b[38;5;124m\"\u001b[39m]\n\u001b[0;32m   1441\u001b[0m \u001b[38;5;28mself\u001b[39m\u001b[38;5;241m.\u001b[39mhandles: IOHandles \u001b[38;5;241m|\u001b[39m \u001b[38;5;28;01mNone\u001b[39;00m \u001b[38;5;241m=\u001b[39m \u001b[38;5;28;01mNone\u001b[39;00m\n\u001b[1;32m-> 1442\u001b[0m \u001b[38;5;28mself\u001b[39m\u001b[38;5;241m.\u001b[39m_engine \u001b[38;5;241m=\u001b[39m \u001b[38;5;28;43mself\u001b[39;49m\u001b[38;5;241;43m.\u001b[39;49m\u001b[43m_make_engine\u001b[49m\u001b[43m(\u001b[49m\u001b[43mf\u001b[49m\u001b[43m,\u001b[49m\u001b[43m \u001b[49m\u001b[38;5;28;43mself\u001b[39;49m\u001b[38;5;241;43m.\u001b[39;49m\u001b[43mengine\u001b[49m\u001b[43m)\u001b[49m\n",
      "File \u001b[1;32m~\\Desktop\\heart-disease\\env\\lib\\site-packages\\pandas\\io\\parsers\\readers.py:1735\u001b[0m, in \u001b[0;36mTextFileReader._make_engine\u001b[1;34m(self, f, engine)\u001b[0m\n\u001b[0;32m   1733\u001b[0m     \u001b[38;5;28;01mif\u001b[39;00m \u001b[38;5;124m\"\u001b[39m\u001b[38;5;124mb\u001b[39m\u001b[38;5;124m\"\u001b[39m \u001b[38;5;129;01mnot\u001b[39;00m \u001b[38;5;129;01min\u001b[39;00m mode:\n\u001b[0;32m   1734\u001b[0m         mode \u001b[38;5;241m+\u001b[39m\u001b[38;5;241m=\u001b[39m \u001b[38;5;124m\"\u001b[39m\u001b[38;5;124mb\u001b[39m\u001b[38;5;124m\"\u001b[39m\n\u001b[1;32m-> 1735\u001b[0m \u001b[38;5;28mself\u001b[39m\u001b[38;5;241m.\u001b[39mhandles \u001b[38;5;241m=\u001b[39m \u001b[43mget_handle\u001b[49m\u001b[43m(\u001b[49m\n\u001b[0;32m   1736\u001b[0m \u001b[43m    \u001b[49m\u001b[43mf\u001b[49m\u001b[43m,\u001b[49m\n\u001b[0;32m   1737\u001b[0m \u001b[43m    \u001b[49m\u001b[43mmode\u001b[49m\u001b[43m,\u001b[49m\n\u001b[0;32m   1738\u001b[0m \u001b[43m    \u001b[49m\u001b[43mencoding\u001b[49m\u001b[38;5;241;43m=\u001b[39;49m\u001b[38;5;28;43mself\u001b[39;49m\u001b[38;5;241;43m.\u001b[39;49m\u001b[43moptions\u001b[49m\u001b[38;5;241;43m.\u001b[39;49m\u001b[43mget\u001b[49m\u001b[43m(\u001b[49m\u001b[38;5;124;43m\"\u001b[39;49m\u001b[38;5;124;43mencoding\u001b[39;49m\u001b[38;5;124;43m\"\u001b[39;49m\u001b[43m,\u001b[49m\u001b[43m \u001b[49m\u001b[38;5;28;43;01mNone\u001b[39;49;00m\u001b[43m)\u001b[49m\u001b[43m,\u001b[49m\n\u001b[0;32m   1739\u001b[0m \u001b[43m    \u001b[49m\u001b[43mcompression\u001b[49m\u001b[38;5;241;43m=\u001b[39;49m\u001b[38;5;28;43mself\u001b[39;49m\u001b[38;5;241;43m.\u001b[39;49m\u001b[43moptions\u001b[49m\u001b[38;5;241;43m.\u001b[39;49m\u001b[43mget\u001b[49m\u001b[43m(\u001b[49m\u001b[38;5;124;43m\"\u001b[39;49m\u001b[38;5;124;43mcompression\u001b[39;49m\u001b[38;5;124;43m\"\u001b[39;49m\u001b[43m,\u001b[49m\u001b[43m \u001b[49m\u001b[38;5;28;43;01mNone\u001b[39;49;00m\u001b[43m)\u001b[49m\u001b[43m,\u001b[49m\n\u001b[0;32m   1740\u001b[0m \u001b[43m    \u001b[49m\u001b[43mmemory_map\u001b[49m\u001b[38;5;241;43m=\u001b[39;49m\u001b[38;5;28;43mself\u001b[39;49m\u001b[38;5;241;43m.\u001b[39;49m\u001b[43moptions\u001b[49m\u001b[38;5;241;43m.\u001b[39;49m\u001b[43mget\u001b[49m\u001b[43m(\u001b[49m\u001b[38;5;124;43m\"\u001b[39;49m\u001b[38;5;124;43mmemory_map\u001b[39;49m\u001b[38;5;124;43m\"\u001b[39;49m\u001b[43m,\u001b[49m\u001b[43m \u001b[49m\u001b[38;5;28;43;01mFalse\u001b[39;49;00m\u001b[43m)\u001b[49m\u001b[43m,\u001b[49m\n\u001b[0;32m   1741\u001b[0m \u001b[43m    \u001b[49m\u001b[43mis_text\u001b[49m\u001b[38;5;241;43m=\u001b[39;49m\u001b[43mis_text\u001b[49m\u001b[43m,\u001b[49m\n\u001b[0;32m   1742\u001b[0m \u001b[43m    \u001b[49m\u001b[43merrors\u001b[49m\u001b[38;5;241;43m=\u001b[39;49m\u001b[38;5;28;43mself\u001b[39;49m\u001b[38;5;241;43m.\u001b[39;49m\u001b[43moptions\u001b[49m\u001b[38;5;241;43m.\u001b[39;49m\u001b[43mget\u001b[49m\u001b[43m(\u001b[49m\u001b[38;5;124;43m\"\u001b[39;49m\u001b[38;5;124;43mencoding_errors\u001b[39;49m\u001b[38;5;124;43m\"\u001b[39;49m\u001b[43m,\u001b[49m\u001b[43m \u001b[49m\u001b[38;5;124;43m\"\u001b[39;49m\u001b[38;5;124;43mstrict\u001b[39;49m\u001b[38;5;124;43m\"\u001b[39;49m\u001b[43m)\u001b[49m\u001b[43m,\u001b[49m\n\u001b[0;32m   1743\u001b[0m \u001b[43m    \u001b[49m\u001b[43mstorage_options\u001b[49m\u001b[38;5;241;43m=\u001b[39;49m\u001b[38;5;28;43mself\u001b[39;49m\u001b[38;5;241;43m.\u001b[39;49m\u001b[43moptions\u001b[49m\u001b[38;5;241;43m.\u001b[39;49m\u001b[43mget\u001b[49m\u001b[43m(\u001b[49m\u001b[38;5;124;43m\"\u001b[39;49m\u001b[38;5;124;43mstorage_options\u001b[39;49m\u001b[38;5;124;43m\"\u001b[39;49m\u001b[43m,\u001b[49m\u001b[43m \u001b[49m\u001b[38;5;28;43;01mNone\u001b[39;49;00m\u001b[43m)\u001b[49m\u001b[43m,\u001b[49m\n\u001b[0;32m   1744\u001b[0m \u001b[43m\u001b[49m\u001b[43m)\u001b[49m\n\u001b[0;32m   1745\u001b[0m \u001b[38;5;28;01massert\u001b[39;00m \u001b[38;5;28mself\u001b[39m\u001b[38;5;241m.\u001b[39mhandles \u001b[38;5;129;01mis\u001b[39;00m \u001b[38;5;129;01mnot\u001b[39;00m \u001b[38;5;28;01mNone\u001b[39;00m\n\u001b[0;32m   1746\u001b[0m f \u001b[38;5;241m=\u001b[39m \u001b[38;5;28mself\u001b[39m\u001b[38;5;241m.\u001b[39mhandles\u001b[38;5;241m.\u001b[39mhandle\n",
      "File \u001b[1;32m~\\Desktop\\heart-disease\\env\\lib\\site-packages\\pandas\\io\\common.py:856\u001b[0m, in \u001b[0;36mget_handle\u001b[1;34m(path_or_buf, mode, encoding, compression, memory_map, is_text, errors, storage_options)\u001b[0m\n\u001b[0;32m    851\u001b[0m \u001b[38;5;28;01melif\u001b[39;00m \u001b[38;5;28misinstance\u001b[39m(handle, \u001b[38;5;28mstr\u001b[39m):\n\u001b[0;32m    852\u001b[0m     \u001b[38;5;66;03m# Check whether the filename is to be opened in binary mode.\u001b[39;00m\n\u001b[0;32m    853\u001b[0m     \u001b[38;5;66;03m# Binary mode does not support 'encoding' and 'newline'.\u001b[39;00m\n\u001b[0;32m    854\u001b[0m     \u001b[38;5;28;01mif\u001b[39;00m ioargs\u001b[38;5;241m.\u001b[39mencoding \u001b[38;5;129;01mand\u001b[39;00m \u001b[38;5;124m\"\u001b[39m\u001b[38;5;124mb\u001b[39m\u001b[38;5;124m\"\u001b[39m \u001b[38;5;129;01mnot\u001b[39;00m \u001b[38;5;129;01min\u001b[39;00m ioargs\u001b[38;5;241m.\u001b[39mmode:\n\u001b[0;32m    855\u001b[0m         \u001b[38;5;66;03m# Encoding\u001b[39;00m\n\u001b[1;32m--> 856\u001b[0m         handle \u001b[38;5;241m=\u001b[39m \u001b[38;5;28;43mopen\u001b[39;49m\u001b[43m(\u001b[49m\n\u001b[0;32m    857\u001b[0m \u001b[43m            \u001b[49m\u001b[43mhandle\u001b[49m\u001b[43m,\u001b[49m\n\u001b[0;32m    858\u001b[0m \u001b[43m            \u001b[49m\u001b[43mioargs\u001b[49m\u001b[38;5;241;43m.\u001b[39;49m\u001b[43mmode\u001b[49m\u001b[43m,\u001b[49m\n\u001b[0;32m    859\u001b[0m \u001b[43m            \u001b[49m\u001b[43mencoding\u001b[49m\u001b[38;5;241;43m=\u001b[39;49m\u001b[43mioargs\u001b[49m\u001b[38;5;241;43m.\u001b[39;49m\u001b[43mencoding\u001b[49m\u001b[43m,\u001b[49m\n\u001b[0;32m    860\u001b[0m \u001b[43m            \u001b[49m\u001b[43merrors\u001b[49m\u001b[38;5;241;43m=\u001b[39;49m\u001b[43merrors\u001b[49m\u001b[43m,\u001b[49m\n\u001b[0;32m    861\u001b[0m \u001b[43m            \u001b[49m\u001b[43mnewline\u001b[49m\u001b[38;5;241;43m=\u001b[39;49m\u001b[38;5;124;43m\"\u001b[39;49m\u001b[38;5;124;43m\"\u001b[39;49m\u001b[43m,\u001b[49m\n\u001b[0;32m    862\u001b[0m \u001b[43m        \u001b[49m\u001b[43m)\u001b[49m\n\u001b[0;32m    863\u001b[0m     \u001b[38;5;28;01melse\u001b[39;00m:\n\u001b[0;32m    864\u001b[0m         \u001b[38;5;66;03m# Binary mode\u001b[39;00m\n\u001b[0;32m    865\u001b[0m         handle \u001b[38;5;241m=\u001b[39m \u001b[38;5;28mopen\u001b[39m(handle, ioargs\u001b[38;5;241m.\u001b[39mmode)\n",
      "\u001b[1;31mFileNotFoundError\u001b[0m: [Errno 2] No such file or directory: 'C:\\\\Users\\\\SOURISH RASTOGI\\\\Downloads\\\\data.csv'"
     ]
    }
   ],
   "source": [
    "#load libraries\n",
    "import numpy as np                                                             # linear algebra\n",
    "import pandas as pd                                                            # data processing, CSV file I/O (e.g. pd.read_csv)\n",
    "from sklearn.model_selection import train_test_split #testing and splitting of dataset\n",
    "from sklearn.metrics import accuracy_score                 #evaluation of classification model\n",
    "from sklearn.model_selection import cross_val_score\n",
    "from statistics import mean\n",
    "\n",
    "# Read the file \"data.csv\" and print the contents.\n",
    "df = pd.read_csv(r'C:\\Users\\SOURISH RASTOGI\\Downloads\\data.csv')"
   ]
  },
  {
   "cell_type": "code",
   "execution_count": null,
   "id": "6d8eb0db",
   "metadata": {},
   "outputs": [],
   "source": [
    "df"
   ]
  },
  {
   "cell_type": "markdown",
   "id": "a51afccb",
   "metadata": {},
   "source": [
    "### Load Dataset"
   ]
  },
  {
   "cell_type": "markdown",
   "id": "d149b5a5",
   "metadata": {},
   "source": [
    "First, load the supplied CSV file using additional options in the Pandas<b> <span style='background : #E9E9E9' > read_csv </span></b>  &nbsp;function."
   ]
  },
  {
   "cell_type": "markdown",
   "id": "27f76b3a",
   "metadata": {},
   "source": [
    "### Inspecting the data"
   ]
  },
  {
   "cell_type": "markdown",
   "id": "1a64211a",
   "metadata": {},
   "source": [
    "The first step is to visually inspect the new data set. There are multiple ways to achieve this:\n",
    "\n",
    "- The easiest being to request the first few records using the DataFrame <b> <span style='background : #E9E9E9' > data.head()  </span></b> &nbsp;method. By default, data.head() returns the first 5 rows from the DataFrame object df (excluding the header row).\n",
    "- Alternatively, one can also use <b><span style='background : #E9E9E9' > df.tail()  </span></b> &nbsp; to return the five rows of the data frame.\n",
    "- For both head and tail methods, there is an option to specify the number of records by including the required number in between the parentheses when calling either method. Now , will inspect the data."
   ]
  },
  {
   "cell_type": "code",
   "execution_count": null,
   "id": "cfd96824",
   "metadata": {},
   "outputs": [],
   "source": [
    "df.head()"
   ]
  },
  {
   "cell_type": "code",
   "execution_count": null,
   "id": "245c625a",
   "metadata": {},
   "outputs": [],
   "source": [
    "df.info()"
   ]
  },
  {
   "cell_type": "markdown",
   "id": "ee211772",
   "metadata": {},
   "source": [
    "### By seeing the information of this dataset\n",
    "- All columns have float64 data-type\n",
    "- Target attribute 'diagnosis' has 'object' data-type\n",
    "- It has categorical output (2) variable\n",
    "\n",
    "The <b><span style='background : #E9E9E9' > info() </span></b>&nbsp; method provides a concise summary of the data; from the output, it provides the type of data in each column, the number of non-null values in each column, and how much memory the data frame is using."
   ]
  },
  {
   "cell_type": "code",
   "execution_count": null,
   "id": "bc46c9e0",
   "metadata": {},
   "outputs": [],
   "source": [
    "df.isnull().sum()"
   ]
  },
  {
   "cell_type": "markdown",
   "id": "c3f92559",
   "metadata": {},
   "source": [
    "## There is not a single null value present in this dataset"
   ]
  },
  {
   "cell_type": "code",
   "execution_count": null,
   "id": "6261046d",
   "metadata": {},
   "outputs": [],
   "source": [
    "df['diagnosis'].value_counts()"
   ]
  },
  {
   "cell_type": "code",
   "execution_count": null,
   "id": "0e3163a3",
   "metadata": {},
   "outputs": [],
   "source": [
    "# id column is redundant and not useful, we want to drop it\n",
    "df.drop(columns=['id'], axis =1,inplace=True)"
   ]
  },
  {
   "cell_type": "code",
   "execution_count": null,
   "id": "e6275d94",
   "metadata": {},
   "outputs": [],
   "source": [
    "df.shape"
   ]
  },
  {
   "cell_type": "markdown",
   "id": "c9a89726",
   "metadata": {},
   "source": [
    "- 'Diagnosis' is output variable\n",
    "- It has 2 categories present - B and M\n",
    "- Map it to 0 and 1"
   ]
  },
  {
   "cell_type": "code",
   "execution_count": null,
   "id": "0fbaee1b",
   "metadata": {},
   "outputs": [],
   "source": [
    "diag_map = {\n",
    "    \"M\":1,\n",
    "    \"B\":0\n",
    "}\n",
    "\n",
    "df['diagnosis'] = df['diagnosis'].map(diag_map)"
   ]
  },
  {
   "cell_type": "markdown",
   "id": "f8113f1d",
   "metadata": {},
   "source": [
    "# Part_2: Exploratory Data Analysis"
   ]
  },
  {
   "cell_type": "markdown",
   "id": "871af3cb",
   "metadata": {},
   "source": [
    "Now that we have a good intuitive sense of the data, Next step involves taking a closer look at attributes and data values. In this section, we are getting familiar with the data, which will provide useful knowledge for data pre-processing."
   ]
  },
  {
   "cell_type": "markdown",
   "id": "7f3ecdde",
   "metadata": {},
   "source": [
    "## 2.1 Objectives of Data Exploration"
   ]
  },
  {
   "cell_type": "markdown",
   "id": "649dc923",
   "metadata": {},
   "source": [
    "Exploratory data analysis (EDA) is an important step in data analysis that should be done before modeling. It helps data scientists understand the data without making assumptions. EDA involves looking at summary statistics and visualizations to better understand the data's structure, values, and relationships. This information can be used to make assumptions and formulate hypotheses. Next step is to explore the data. There are two approached used to examine the data using:\n",
    "- <b> Descriptive statistics</b> summarize key characteristics of the data using simple numbers, such as mean and standard deviation.\n",
    "- <b>Visualization involves</b> representing the data in pictures or graphs.\n",
    "\n",
    "EDA is useful in various data mining steps, including preprocessing, modeling, and interpreting results."
   ]
  },
  {
   "cell_type": "markdown",
   "id": "ab8edb33",
   "metadata": {},
   "source": [
    "## 2.2 Descriptive statistics"
   ]
  },
  {
   "cell_type": "markdown",
   "id": "fd082a25",
   "metadata": {},
   "source": [
    "Summary statistics are measurements meant to describe data. In the field of descriptive statistics, there are many summary measurements."
   ]
  },
  {
   "cell_type": "code",
   "execution_count": null,
   "id": "b7fad9c9",
   "metadata": {},
   "outputs": [],
   "source": [
    "#basic descriptive statistics\n",
    "df.describe()"
   ]
  },
  {
   "cell_type": "code",
   "execution_count": null,
   "id": "dc1cc854",
   "metadata": {},
   "outputs": [],
   "source": [
    "df.skew()"
   ]
  },
  {
   "cell_type": "markdown",
   "id": "4a53dd3a",
   "metadata": {},
   "source": [
    "The skew result show a positive (right) or negative (left) skew. Values closer to zero show less skew.\n",
    "\n",
    "From the graphs, we can see that <b>radius_mean, perimeter_mean, area_mean, concavity_mean</b> and <b>concave_points_mean</b> are useful in predicting cancer type due to the distinct grouping between malignant and benign cancer types in these features. We can also see that <b>area_worst</b> and <b>perimeter_worst</b> are also quite useful."
   ]
  },
  {
   "cell_type": "markdown",
   "id": "5324b5fa",
   "metadata": {},
   "source": [
    "## 2.3 Unimodal Data Visualizations\n"
   ]
  },
  {
   "cell_type": "markdown",
   "id": "ab44cc2b",
   "metadata": {},
   "source": [
    "One of the main goals of visualizing the data here is to observe which features are most helpful in predicting malignant or benign cancer. The other is to see general trends that may aid us in model selection and hyper parameter selection.\n",
    "\n",
    "Apply 3 techniques that you can use to understand each attribute of your dataset independently.\n",
    "\n",
    "- Histograms.\n",
    "- Density Plots.\n",
    "- Box and Whisker Plots."
   ]
  },
  {
   "cell_type": "code",
   "execution_count": null,
   "id": "b00f8f51",
   "metadata": {},
   "outputs": [],
   "source": [
    "%matplotlib inline\n",
    "import matplotlib.pyplot as plt\n",
    "\n",
    "#Load libraries for data processing\n",
    "import pandas as pd #data processing, CSV file I/O (e.g. pd.read_csv)\n",
    "import numpy as np\n",
    "import seaborn as sns # data visualization\n"
   ]
  },
  {
   "cell_type": "code",
   "execution_count": null,
   "id": "6f38de6c",
   "metadata": {},
   "outputs": [],
   "source": [
    "#lets get the frequency of cancer diagnosis\n",
    "sns.countplot(x='diagnosis', data=df)"
   ]
  },
  {
   "cell_type": "markdown",
   "id": "20a213c7",
   "metadata": {},
   "source": [
    "## 2.3.1 Visualise distribution of data via histograms"
   ]
  },
  {
   "cell_type": "markdown",
   "id": "dfb36006",
   "metadata": {},
   "source": [
    "Histograms are commonly used to visualize numerical variables. A histogram is similar to a bar graph after the values of the variable are grouped (binned) into a finite number of intervals (bins). Histograms group data into bins and provide you a count of the number of observations in each bin. "
   ]
  },
  {
   "cell_type": "markdown",
   "id": "d40fb4b9",
   "metadata": {},
   "source": [
    "### Separate columns into smaller dataframes to perform visualization"
   ]
  },
  {
   "cell_type": "code",
   "execution_count": null,
   "id": "96c1dff1",
   "metadata": {},
   "outputs": [],
   "source": [
    "#Break up columns into groups, according to their suffix designation \n",
    "#(_mean, _se,and __worst) to perform visualisation plots off. \n",
    "\n",
    "#For a merge + slice:\n",
    "df_mean=df.iloc[:,1:11]\n",
    "df_se=df.iloc[:,11:22]\n",
    "df_worst=df.iloc[:,23:]\n",
    "\n",
    "\n",
    "print(df_mean.columns)\n",
    "\n",
    "print(df_se.columns)\n",
    "\n",
    "print(df_worst.columns)"
   ]
  },
  {
   "cell_type": "markdown",
   "id": "697c0b78",
   "metadata": {},
   "source": [
    "### Histogram the <span style='background : #E9E9E9' > _mean</span></b>  &nbsp;suffix designition"
   ]
  },
  {
   "cell_type": "code",
   "execution_count": null,
   "id": "560657e7",
   "metadata": {},
   "outputs": [],
   "source": [
    "#Plot histograms of _mean variables\n",
    "hist_mean=df_mean.hist(bins=10, figsize=(15, 10),grid=False,)\n"
   ]
  },
  {
   "cell_type": "markdown",
   "id": "69256b0e",
   "metadata": {},
   "source": [
    "### Histogram the <span style='background : #E9E9E9' > _se</span></b>  &nbsp;suffix designition"
   ]
  },
  {
   "cell_type": "code",
   "execution_count": null,
   "id": "14601f53",
   "metadata": {},
   "outputs": [],
   "source": [
    "#Plot histograms of _se variables\n",
    "hist_se=df_se.hist(bins=10, figsize=(15, 10),grid=False,)"
   ]
  },
  {
   "cell_type": "markdown",
   "id": "70226204",
   "metadata": {},
   "source": [
    "### Histogram the <span style='background : #E9E9E9' > _worst</span></b>  &nbsp;suffix designition"
   ]
  },
  {
   "cell_type": "code",
   "execution_count": null,
   "id": "a8ada9a4",
   "metadata": {},
   "outputs": [],
   "source": [
    "#Plot histograms of _worst variables\n",
    "hist_worst=df_worst.hist(bins=10, figsize=(15, 10),grid=False,)"
   ]
  },
  {
   "cell_type": "markdown",
   "id": "4f3fb8ab",
   "metadata": {},
   "source": [
    "## Observation"
   ]
  },
  {
   "cell_type": "markdown",
   "id": "d1e02185",
   "metadata": {},
   "source": [
    "We can see that perhaps the attributes <b>concavity</b> ,and <b>concavity_point</b> may have an exponential distribution ( ). We can also see that perhaps the texture and smooth and symmetry attributes may have a Gaussian or nearly Gaussian distribution. This is interesting because many machine learning techniques assume a Gaussian univariate distribution on the input variables."
   ]
  },
  {
   "cell_type": "markdown",
   "id": "a7d5341d",
   "metadata": {},
   "source": [
    "## 2.3.2 Visualize distribution of data via density plots"
   ]
  },
  {
   "cell_type": "markdown",
   "id": "123f11d4",
   "metadata": {},
   "source": [
    "### Density plots <span style='background : #E9E9E9' > _mean</span></b> &nbsp;suffix"
   ]
  },
  {
   "cell_type": "code",
   "execution_count": null,
   "id": "61b9d0f5",
   "metadata": {},
   "outputs": [],
   "source": [
    "#Density Plots\n",
    "plt = df_mean.plot(kind= 'density', subplots=True, layout=(4,3), sharex=False, \n",
    "                     sharey=False, fontsize=12, figsize=(15,10))"
   ]
  },
  {
   "cell_type": "markdown",
   "id": "e001d18d",
   "metadata": {},
   "source": [
    "### Density plots <span style='background : #E9E9E9' > _se</span></b>&nbsp;suffix"
   ]
  },
  {
   "cell_type": "code",
   "execution_count": null,
   "id": "eefb01a6",
   "metadata": {},
   "outputs": [],
   "source": [
    "#Density Plots\n",
    "plt = df_se.plot(kind= 'density', subplots=True, layout=(4,3), sharex=False, \n",
    "                    sharey=False, fontsize=12, figsize=(15,10))"
   ]
  },
  {
   "cell_type": "markdown",
   "id": "065b0a28",
   "metadata": {},
   "source": [
    "### Density plots <span style='background : #E9E9E9' > _worst</span></b>&nbsp;suffix"
   ]
  },
  {
   "cell_type": "code",
   "execution_count": null,
   "id": "30396482",
   "metadata": {},
   "outputs": [],
   "source": [
    "#Density Plots\n",
    "plt = df_worst.plot(kind= 'kde', subplots=True, layout=(4,3), sharex=False, sharey=False, \n",
    "                    fontsize=5, figsize=(15,10))"
   ]
  },
  {
   "cell_type": "markdown",
   "id": "beecb948",
   "metadata": {},
   "source": [
    "## 2.3.3 Visualise distribution of data via box plots"
   ]
  },
  {
   "cell_type": "markdown",
   "id": "fb5b90cb",
   "metadata": {},
   "source": [
    "### Box plot <span style='background : #E9E9E9' >  _mean</span></b>&nbsp;suffix"
   ]
  },
  {
   "cell_type": "code",
   "execution_count": null,
   "id": "1c7a5163",
   "metadata": {},
   "outputs": [],
   "source": [
    "# box and whisker plots\n",
    "plt=df_mean.plot(kind= 'box' , subplots=True, layout=(4,4), sharex=False, sharey=False,\n",
    "                 fontsize=12)"
   ]
  },
  {
   "cell_type": "markdown",
   "id": "11385d27",
   "metadata": {},
   "source": [
    "### Box plot <span style='background : #E9E9E9' >  _se</span></b>&nbsp;suffix"
   ]
  },
  {
   "cell_type": "code",
   "execution_count": null,
   "id": "785771f1",
   "metadata": {},
   "outputs": [],
   "source": [
    "# box and whisker plots\n",
    "plt=df_se.plot(kind= 'box' , subplots=True, layout=(4,4), sharex=False, sharey=False, \n",
    "               fontsize=12)"
   ]
  },
  {
   "cell_type": "markdown",
   "id": "2c83363e",
   "metadata": {},
   "source": [
    "### Box plot <span style='background : #E9E9E9' >  _worst</span></b>&nbsp;suffix "
   ]
  },
  {
   "cell_type": "code",
   "execution_count": null,
   "id": "3328160f",
   "metadata": {},
   "outputs": [],
   "source": [
    "# box and whisker plots\n",
    "plt=df_worst.plot(kind= 'box' , subplots=True, layout=(4,4), sharex=False, sharey=False, \n",
    "                  fontsize=12)"
   ]
  },
  {
   "cell_type": "markdown",
   "id": "d173d514",
   "metadata": {},
   "source": [
    "## 2.4 Multimodal Data Visualizations"
   ]
  },
  {
   "cell_type": "markdown",
   "id": "db505393",
   "metadata": {},
   "source": [
    "- Scatter plots\n",
    "- Correlation matrix"
   ]
  },
  {
   "cell_type": "markdown",
   "id": "5b70922a",
   "metadata": {},
   "source": [
    "### Correlation matrix"
   ]
  },
  {
   "cell_type": "code",
   "execution_count": null,
   "id": "2a400892",
   "metadata": {},
   "outputs": [],
   "source": [
    "# plot correlation matrix\n",
    "import pandas as pd\n",
    "import numpy as np\n",
    "import seaborn as sns\n",
    "from matplotlib import pyplot as plt\n",
    "\n",
    "plt.style.use('fivethirtyeight')\n",
    "sns.set_style(\"white\")\n",
    "\n",
    "df = pd.read_csv(r'C:\\Users\\SOURISH RASTOGI\\Downloads\\data.csv')\n",
    "\n",
    "# Compute the correlation matrix\n",
    "corr = df_mean.corr()\n",
    "\n",
    "# Generate a mask for the upper triangle\n",
    "mask = np.zeros_like(corr, dtype=bool)\n",
    "mask[np.triu_indices_from(mask)] = True\n",
    "\n",
    "# Set up the matplotlib figure\n",
    "df, ax = plt.subplots(figsize=(8, 8))\n",
    "plt.title('Breast Cancer Feature Correlation')\n",
    "\n",
    "# Generate a custom diverging colormap\n",
    "cmap = sns.diverging_palette(260, 10, as_cmap=True)\n",
    "\n",
    "# Draw the heatmap with the mask and correct aspect ratio\n",
    "sns.heatmap(corr, vmax=1.2, square='square', cmap=cmap, mask=mask, \n",
    "            ax=ax,annot=True, fmt='.2g',linewidths=2);"
   ]
  },
  {
   "cell_type": "markdown",
   "id": "0dc094a1",
   "metadata": {},
   "source": [
    "## Observation:"
   ]
  },
  {
   "cell_type": "markdown",
   "id": "df3b4bbf",
   "metadata": {},
   "source": [
    "We can see strong positive relationship exists with mean values paramaters between 1 to 0.75.\n",
    "\n",
    "- The mean area of the tissue nucleus has a strong positive correlation with mean values of radius and parameter;\n",
    "- Some paramters are moderately positive corrlated (r between 0.5-0.75)are concavity and area, concavity and perimeter etc\n",
    "- Likewise, we see some strong negative correlation between fractal_dimension with radius, texture, parameter mean values."
   ]
  },
  {
   "cell_type": "code",
   "execution_count": null,
   "id": "d6f342d2",
   "metadata": {},
   "outputs": [],
   "source": [
    "plt.style.use('fivethirtyeight')\n",
    "sns.set_style(\"white\")\n",
    "\n",
    "df = pd.read_csv(r'C:\\Users\\SOURISH RASTOGI\\Downloads\\data.csv', index_col=False)\n",
    "g = sns.PairGrid(df[[df.columns[1],df.columns[2], df.columns[3],\n",
    "                     df.columns[4], df.columns[5], df.columns[6]]], hue='diagnosis')\n",
    "g = g.map_diag(plt.hist)\n",
    "g = g.map_offdiag(plt.scatter, s = 3)"
   ]
  },
  {
   "cell_type": "markdown",
   "id": "1a580e2d",
   "metadata": {},
   "source": [
    "### Part_2 Summary:"
   ]
  },
  {
   "cell_type": "markdown",
   "id": "41bb348c",
   "metadata": {},
   "source": [
    "The mean values of key parameters such as cell radius, perimeter, area, compactness, concavity, and concave points can be leveraged to classify cancer. Notably, higher values of these parameters are often indicative of malignant tumors, thus providing a strong correlation. Conversely, the mean values of other parameters, such as texture, smoothness, symmetry, and fractal dimension, do not exhibit a significant preference for one diagnosis over the other.\n",
    "\n",
    "Upon inspecting the histograms, no noticeable outliers of significant magnitude are present, and therefore, no further cleanup efforts are deemed necessary."
   ]
  },
  {
   "cell_type": "markdown",
   "id": "ed9720b5",
   "metadata": {},
   "source": [
    "# Part_3: Pre-Processing the data"
   ]
  },
  {
   "cell_type": "markdown",
   "id": "59a2c84c",
   "metadata": {},
   "source": [
    "## Introduction"
   ]
  },
  {
   "cell_type": "markdown",
   "id": "c5ce4420",
   "metadata": {},
   "source": [
    "Data Pre-Processing is a crucial step for any data analysis problem. It is often a very good idea to prepare your data in such way to best expose the structure of the problem to the machine learning algorithms that you intend to use. This involves a number of activities such as:\n",
    "\n",
    "- Assigning numerical values to categorical data;\n",
    "- Handling missing values; and\n",
    "- Normalizing the features (so that features on small scales do not dominate when fitting a model to the data).\n",
    "\n",
    "In Part_2, we explored the data, to help gain insight on the distribution of the data as well as how the attributes correlate to each other. We identified some features of interest. Now, we use feature selection to reduce high-dimension data, feature extraction and transformation for dimensionality reduction."
   ]
  },
  {
   "cell_type": "markdown",
   "id": "62b5f0e3",
   "metadata": {},
   "source": [
    "## Goal:"
   ]
  },
  {
   "cell_type": "markdown",
   "id": "7b648070",
   "metadata": {},
   "source": [
    "Find the most predictive features of the data and filter it so it will enhance the predictive power of the analytics model."
   ]
  },
  {
   "cell_type": "markdown",
   "id": "1cf14e08",
   "metadata": {},
   "source": [
    "### Label encoding"
   ]
  },
  {
   "cell_type": "code",
   "execution_count": null,
   "id": "127b63d9",
   "metadata": {},
   "outputs": [],
   "source": [
    "from sklearn.preprocessing import LabelEncoder\n",
    "#transform the class labels from their original string representation (M and B) into integers\n",
    "label_encoder = LabelEncoder()\n",
    "df['diagnosis']=label_encoder.fit_transform(df['diagnosis'])\n",
    "df"
   ]
  },
  {
   "cell_type": "markdown",
   "id": "2421eaa0",
   "metadata": {},
   "source": [
    "After encoding the class labels(diagnosis) , the malignant tumors are now represented as class 1(i.e prescence of cancer cells) and the benign tumors are represented as class 0 (i.e no cancer cells detection), respectively, illustrated by calling the transform method of LabelEncorder on two dummy variables."
   ]
  },
  {
   "cell_type": "code",
   "execution_count": null,
   "id": "a628d041",
   "metadata": {},
   "outputs": [],
   "source": [
    "y=df['diagnosis']\n",
    "x=df.drop(['diagnosis','id'],axis=1)"
   ]
  },
  {
   "cell_type": "code",
   "execution_count": null,
   "id": "b7ce08d0",
   "metadata": {},
   "outputs": [],
   "source": [
    "x,y"
   ]
  },
  {
   "cell_type": "markdown",
   "id": "ca15e248",
   "metadata": {},
   "source": [
    "### Feature Standardization"
   ]
  },
  {
   "cell_type": "markdown",
   "id": "41a90b68",
   "metadata": {},
   "source": [
    "Standardization is a useful technique to transform attributes with a Gaussian distribution and differing means and standard deviations to a standard Gaussian distribution with a mean of 0 and a standard deviation of 1.\n",
    "\n",
    "Let’s evaluate the same algorithms with a standardized copy of the dataset. Here, I use sklearn to scale and transform the data such that each attribute has a mean value of zero and a standard deviation of one."
   ]
  },
  {
   "cell_type": "code",
   "execution_count": null,
   "id": "98505942",
   "metadata": {},
   "outputs": [],
   "source": [
    "# Normalize the  data (center around 0 and scale to remove the variance).\n",
    "from sklearn.preprocessing import MinMaxScaler\n",
    "scaler=MinMaxScaler()\n",
    "preprocessed_data=scaler.fit_transform(x)"
   ]
  },
  {
   "cell_type": "code",
   "execution_count": null,
   "id": "fa2027a0",
   "metadata": {},
   "outputs": [],
   "source": [
    "print(preprocessed_data)"
   ]
  },
  {
   "cell_type": "code",
   "execution_count": null,
   "id": "2aafe208",
   "metadata": {},
   "outputs": [],
   "source": [
    "new_df=pd.DataFrame(preprocessed_data)"
   ]
  },
  {
   "cell_type": "code",
   "execution_count": null,
   "id": "8439bceb",
   "metadata": {},
   "outputs": [],
   "source": [
    "new_df"
   ]
  },
  {
   "cell_type": "markdown",
   "id": "64da7ce2",
   "metadata": {},
   "source": [
    "# MODULE-1 \n",
    "### Splitting the dataset into 3 subsets"
   ]
  },
  {
   "cell_type": "code",
   "execution_count": null,
   "id": "3f088559",
   "metadata": {},
   "outputs": [],
   "source": [
    "x1=x.iloc[:,:10]\n",
    "x1"
   ]
  },
  {
   "cell_type": "code",
   "execution_count": null,
   "id": "81d37d72",
   "metadata": {},
   "outputs": [],
   "source": [
    "x2=x.iloc[:,10:20]\n",
    "x2"
   ]
  },
  {
   "cell_type": "code",
   "execution_count": null,
   "id": "32f74e83",
   "metadata": {},
   "outputs": [],
   "source": [
    "x3=x.iloc[:,20:30]\n",
    "x3"
   ]
  },
  {
   "cell_type": "markdown",
   "id": "b654931a",
   "metadata": {},
   "source": [
    "### Feature decomposition using Principal Component Analysis (PCA)"
   ]
  },
  {
   "cell_type": "markdown",
   "id": "e2ad87ba",
   "metadata": {},
   "source": [
    "From the pair plot in Part_2, lot of feature pairs divide nicely the data to a similar extent, therefore, it makes sense to use one of the dimensionality reduction methods to try to use as many features as possible and maintian as much information as possible when working with only 2 dimensions. I will use PCA."
   ]
  },
  {
   "cell_type": "code",
   "execution_count": null,
   "id": "42f5c294",
   "metadata": {},
   "outputs": [],
   "source": [
    "from sklearn.decomposition import PCA \n",
    "pca=PCA(n_components=10)\n",
    "x1_pca=pca.fit_transform(x1)"
   ]
  },
  {
   "cell_type": "code",
   "execution_count": null,
   "id": "49a14d73",
   "metadata": {},
   "outputs": [],
   "source": [
    "from sklearn.decomposition import PCA \n",
    "pca=PCA(n_components=10)\n",
    "x2_pca=pca.fit_transform(x2)"
   ]
  },
  {
   "cell_type": "code",
   "execution_count": null,
   "id": "3a452f99",
   "metadata": {},
   "outputs": [],
   "source": [
    "from sklearn.decomposition import PCA \n",
    "pca=PCA(n_components=10)\n",
    "x3_pca=pca.fit_transform(x3)"
   ]
  },
  {
   "cell_type": "markdown",
   "id": "33f91380",
   "metadata": {},
   "source": [
    "### Classification with cross-validation"
   ]
  },
  {
   "cell_type": "markdown",
   "id": "e45c4c77",
   "metadata": {},
   "source": [
    "- In order to avoid overfitting and enable generalization of unseen data, it is critical to split the dataset into distinct training and test sets. However, this process can be further enhanced through the application of cross-validation, which involves dividing the data into similarly-sized folds, rather than relying on a single train/test split.\n",
    "\n",
    "- During training, all folds except one are employed for training, with the remaining fold serving as the holdout sample. After completing the training, the performance of the model is assessed using the holdout sample. This holdout sample is subsequently reintroduced into the fold with the other samples, and a new fold is chosen to serve as the holdout sample for testing.\n",
    "\n",
    "- The training process is repeated with the remaining folds, and the holdout sample is used to evaluate the performance of the fitted model. This process is repeated until each fold has had an opportunity to serve as both a test and holdout sample.\n",
    "\n",
    "- The cross-validation error, which serves as an estimate of the expected performance of the classifier, is then computed by averaging the error rates calculated on each of the holdout samples."
   ]
  },
  {
   "cell_type": "code",
   "execution_count": null,
   "id": "aeb2b238",
   "metadata": {},
   "outputs": [],
   "source": [
    "from sklearn.model_selection import KFold"
   ]
  },
  {
   "cell_type": "code",
   "execution_count": null,
   "id": "88a7996c",
   "metadata": {},
   "outputs": [],
   "source": [
    "kf = KFold(n_splits=5)"
   ]
  },
  {
   "cell_type": "code",
   "execution_count": null,
   "id": "f00cb49d",
   "metadata": {},
   "outputs": [],
   "source": [
    "kf.get_n_splits(x1)"
   ]
  },
  {
   "cell_type": "code",
   "execution_count": null,
   "id": "7059268f",
   "metadata": {},
   "outputs": [],
   "source": [
    "KFold(n_splits=5, random_state=None, shuffle=False)"
   ]
  },
  {
   "cell_type": "markdown",
   "id": "899b1eea",
   "metadata": {},
   "source": [
    "### Splitting the data into Training data & Testing data"
   ]
  },
  {
   "cell_type": "code",
   "execution_count": null,
   "id": "a364f863",
   "metadata": {},
   "outputs": [],
   "source": [
    " x1_train, x1_test, y1_train, y1_test = train_test_split(x1, y, test_size=0.2, random_state=42, shuffle=False)"
   ]
  },
  {
   "cell_type": "code",
   "execution_count": null,
   "id": "a63a7011",
   "metadata": {},
   "outputs": [],
   "source": [
    "x2_train, x2_test, y2_train, y2_test = train_test_split(x2, y, test_size=0.2, random_state=42, shuffle=False)"
   ]
  },
  {
   "cell_type": "code",
   "execution_count": null,
   "id": "a4019ccf",
   "metadata": {},
   "outputs": [],
   "source": [
    "x1_train_pca, x1_test_pca, y1_train_pca, y1_test_pca = train_test_split(x1_pca, y, test_size=0.2, random_state=42,shuffle=False)\n",
    "x2_train_pca, x2_test_pca, y2_train_pca, y2_test_pca = train_test_split(x2_pca, y, test_size=0.2, random_state=42,shuffle=True)\n",
    "x3_train, x3_test, y3_train, y3_test = train_test_split(x3_pca, y, test_size=0.2, random_state=42)"
   ]
  },
  {
   "cell_type": "markdown",
   "id": "bb6a13dd",
   "metadata": {},
   "source": [
    "# Part_4.1: Model Training and Evaluation"
   ]
  },
  {
   "cell_type": "markdown",
   "id": "c19bc9f1",
   "metadata": {},
   "source": [
    "## 1) SVM"
   ]
  },
  {
   "cell_type": "code",
   "execution_count": null,
   "id": "8973d0f8",
   "metadata": {},
   "outputs": [],
   "source": [
    "from sklearn import svm\n",
    "svm1 = svm.SVC(random_state=42)\n",
    "svm1.fit(x1_train_pca,y1_train_pca)\n",
    "ypred1 = svm1.predict(x1_test_pca)\n",
    "accuracy_score(y1_test_pca, ypred1)"
   ]
  },
  {
   "cell_type": "code",
   "execution_count": null,
   "id": "763c93da",
   "metadata": {},
   "outputs": [],
   "source": [
    "mean(cross_val_score(svm1,x1,y,cv=5,scoring=None))"
   ]
  },
  {
   "cell_type": "code",
   "execution_count": null,
   "id": "c10d26f4",
   "metadata": {},
   "outputs": [],
   "source": [
    "svm2 = svm.SVC(random_state=42)\n",
    "svm2.fit(x2_train_pca, y2_train_pca)\n",
    "ypred2 = svm2.predict(x2_test_pca)\n",
    "accuracy_score(y2_test_pca, ypred2)"
   ]
  },
  {
   "cell_type": "code",
   "execution_count": null,
   "id": "03c4e22a",
   "metadata": {},
   "outputs": [],
   "source": [
    "mean(cross_val_score(svm2,x2,y,cv=5,scoring=None))"
   ]
  },
  {
   "cell_type": "code",
   "execution_count": null,
   "id": "db302b17",
   "metadata": {},
   "outputs": [],
   "source": [
    "svm3 = svm.SVC(random_state=42)\n",
    "svm3.fit(x3_train, y3_train)\n",
    "ypred3 = svm3.predict(x3_test)\n",
    "accuracy_score(y3_test, ypred3)"
   ]
  },
  {
   "cell_type": "code",
   "execution_count": null,
   "id": "191cded6",
   "metadata": {},
   "outputs": [],
   "source": [
    "mean(cross_val_score(svm3,x3,y,cv=5,scoring=None))"
   ]
  },
  {
   "cell_type": "markdown",
   "id": "1673b8de",
   "metadata": {},
   "source": [
    "## 2) Decision Tree"
   ]
  },
  {
   "cell_type": "code",
   "execution_count": null,
   "id": "3b790b28",
   "metadata": {},
   "outputs": [],
   "source": [
    "from sklearn import tree\n",
    "dt1 = tree.DecisionTreeClassifier(random_state=78)\n",
    "dt1 = dt1.fit(x1_train, y1_train)\n",
    "ypred_dt1 = dt1.predict(x1_test)\n",
    "accuracy_score(y1_test,ypred_dt1)"
   ]
  },
  {
   "cell_type": "code",
   "execution_count": null,
   "id": "93c1ca0d",
   "metadata": {},
   "outputs": [],
   "source": [
    "mean(cross_val_score(dt1,x1,y,cv=5,scoring=None))"
   ]
  },
  {
   "cell_type": "code",
   "execution_count": null,
   "id": "580989b5",
   "metadata": {},
   "outputs": [],
   "source": [
    "dt2 = tree.DecisionTreeClassifier(random_state=42)\n",
    "dt2 = dt2.fit(x2_train_pca, y2_train_pca)\n",
    "ypred_dt2 = dt2.predict(x2_test_pca)\n",
    "accuracy_score(y2_test_pca,ypred_dt2)"
   ]
  },
  {
   "cell_type": "code",
   "execution_count": null,
   "id": "49763f61",
   "metadata": {},
   "outputs": [],
   "source": [
    "mean(cross_val_score(dt2,x2,y,cv=5,scoring=None))"
   ]
  },
  {
   "cell_type": "code",
   "execution_count": null,
   "id": "6c9ff0d0",
   "metadata": {},
   "outputs": [],
   "source": [
    "dt3 = tree.DecisionTreeClassifier(random_state=42)\n",
    "dt3 = dt2.fit(x3_train, y3_train)\n",
    "ypred_dt3 = dt3.predict(x3_test)\n",
    "accuracy_score(y3_test,ypred_dt3)"
   ]
  },
  {
   "cell_type": "code",
   "execution_count": null,
   "id": "f3cb3498",
   "metadata": {},
   "outputs": [],
   "source": [
    "mean(cross_val_score(dt3,x3,y,cv=5,scoring=None))"
   ]
  },
  {
   "cell_type": "markdown",
   "id": "7f132e4a",
   "metadata": {},
   "source": [
    "## 3) Random Forest"
   ]
  },
  {
   "cell_type": "code",
   "execution_count": null,
   "id": "71575776",
   "metadata": {},
   "outputs": [],
   "source": [
    "from sklearn.ensemble import RandomForestClassifier"
   ]
  },
  {
   "cell_type": "code",
   "execution_count": null,
   "id": "1e134cfd",
   "metadata": {},
   "outputs": [],
   "source": [
    "rf1 = RandomForestClassifier(random_state=42)\n",
    "rf1.fit(x1_train,y1_train)\n",
    "ypred_rf1= rf1.predict(x1_test)\n",
    "accuracy_score(y1_test,ypred_rf1)"
   ]
  },
  {
   "cell_type": "code",
   "execution_count": null,
   "id": "63fb94ea",
   "metadata": {},
   "outputs": [],
   "source": [
    "mean(cross_val_score(rf1,x1,y,cv=5,scoring=None))"
   ]
  },
  {
   "cell_type": "code",
   "execution_count": null,
   "id": "154b3701",
   "metadata": {},
   "outputs": [],
   "source": [
    "rf2 = RandomForestClassifier(random_state=42)\n",
    "rf2.fit(x2_train_pca,y2_train_pca)\n",
    "ypred_rf2= rf2.predict(x2_test_pca)\n",
    "accuracy_score(y2_test_pca,ypred_rf2)"
   ]
  },
  {
   "cell_type": "code",
   "execution_count": null,
   "id": "211c9bae",
   "metadata": {},
   "outputs": [],
   "source": [
    "mean(cross_val_score(rf2,x2,y,cv=5,scoring=None))"
   ]
  },
  {
   "cell_type": "code",
   "execution_count": null,
   "id": "186f4341",
   "metadata": {},
   "outputs": [],
   "source": [
    "rf3 = RandomForestClassifier(random_state=42)\n",
    "rf3.fit(x3_train,y3_train)\n",
    "ypred_rf3= rf3.predict(x3_test)\n",
    "accuracy_score(y3_test,ypred_rf3)"
   ]
  },
  {
   "cell_type": "code",
   "execution_count": null,
   "id": "dd0b826e",
   "metadata": {},
   "outputs": [],
   "source": [
    "mean(cross_val_score(rf3,x3,y,cv=5,scoring=None))"
   ]
  },
  {
   "cell_type": "markdown",
   "id": "b48d9af2",
   "metadata": {},
   "source": [
    "## 4) Naive Bayes"
   ]
  },
  {
   "cell_type": "code",
   "execution_count": null,
   "id": "570a9a12",
   "metadata": {},
   "outputs": [],
   "source": [
    "from sklearn.naive_bayes import GaussianNB"
   ]
  },
  {
   "cell_type": "code",
   "execution_count": null,
   "id": "701f40fd",
   "metadata": {},
   "outputs": [],
   "source": [
    "gnb1 = GaussianNB()\n",
    "gnb1.fit(x1_train,y1_train)\n",
    "ypred_nb1 = gnb1.predict(x1_test)\n",
    "accuracy_score(y1_test,ypred_nb1)"
   ]
  },
  {
   "cell_type": "code",
   "execution_count": null,
   "id": "0aacae11",
   "metadata": {},
   "outputs": [],
   "source": [
    "mean(cross_val_score(gnb1,x1,y,cv=5,scoring=None))"
   ]
  },
  {
   "cell_type": "code",
   "execution_count": null,
   "id": "c09df280",
   "metadata": {},
   "outputs": [],
   "source": [
    "gnb2 = GaussianNB()\n",
    "gnb2.fit(x2_train,y2_train)\n",
    "ypred_nb2 = gnb2.predict(x2_test)\n",
    "accuracy_score(y2_test,ypred_nb2)"
   ]
  },
  {
   "cell_type": "code",
   "execution_count": null,
   "id": "281808f0",
   "metadata": {},
   "outputs": [],
   "source": [
    "mean(cross_val_score(gnb2,x2,y,cv=5,scoring=None))"
   ]
  },
  {
   "cell_type": "code",
   "execution_count": null,
   "id": "6c98f173",
   "metadata": {},
   "outputs": [],
   "source": [
    "gnb3 = GaussianNB()\n",
    "gnb3.fit(x3_train,y3_train)\n",
    "ypred_nb3 = gnb3.predict(x3_test)\n",
    "accuracy_score(y3_test,ypred_nb3)"
   ]
  },
  {
   "cell_type": "code",
   "execution_count": null,
   "id": "35f6ebce",
   "metadata": {},
   "outputs": [],
   "source": [
    "mean(cross_val_score(gnb2,x2,y,cv=5,scoring=None))"
   ]
  },
  {
   "cell_type": "markdown",
   "id": "9603b5d9",
   "metadata": {},
   "source": [
    "## 5) Logistic Regression"
   ]
  },
  {
   "cell_type": "code",
   "execution_count": null,
   "id": "516f0080",
   "metadata": {},
   "outputs": [],
   "source": [
    "from sklearn.linear_model import LogisticRegression"
   ]
  },
  {
   "cell_type": "code",
   "execution_count": null,
   "id": "781babac",
   "metadata": {},
   "outputs": [],
   "source": [
    "lr1 = LogisticRegression(max_iter=250,random_state=42)\n",
    "lr1.fit(x1_train_pca,y1_train_pca)\n",
    "ypred_lr1 = lr1.predict(x1_test_pca)\n",
    "accuracy_score(y1_test_pca,ypred_lr1)"
   ]
  },
  {
   "cell_type": "code",
   "execution_count": null,
   "id": "af040606",
   "metadata": {},
   "outputs": [],
   "source": [
    "mean(cross_val_score(lr1,x1,y,cv=5,scoring=None))"
   ]
  },
  {
   "cell_type": "code",
   "execution_count": null,
   "id": "db5d4da2",
   "metadata": {},
   "outputs": [],
   "source": [
    "lr2 = LogisticRegression(max_iter=250,random_state=42)\n",
    "lr2.fit(x2_train_pca,y2_train_pca)\n",
    "ypred_lr2 = lr2.predict(x2_test_pca)\n",
    "accuracy_score(y2_test_pca,ypred_lr2)"
   ]
  },
  {
   "cell_type": "code",
   "execution_count": null,
   "id": "d72d8705",
   "metadata": {},
   "outputs": [],
   "source": [
    "mean(cross_val_score(lr2,x2,y,cv=5,scoring=None))"
   ]
  },
  {
   "cell_type": "code",
   "execution_count": null,
   "id": "880cdfe9",
   "metadata": {},
   "outputs": [],
   "source": [
    "lr3 = LogisticRegression(max_iter=250,random_state=42)\n",
    "lr3.fit(x3_train,y3_train)\n",
    "ypred_lr3 = lr3.predict(x3_test)\n",
    "accuracy_score(y3_test,ypred_lr3)"
   ]
  },
  {
   "cell_type": "code",
   "execution_count": null,
   "id": "48d8ab88",
   "metadata": {},
   "outputs": [],
   "source": [
    "mean(cross_val_score(lr3,x3,y,cv=5,scoring=None))"
   ]
  },
  {
   "cell_type": "markdown",
   "id": "df892d1d",
   "metadata": {},
   "source": [
    "### Graphical Representation of _mean , _se , _worst suffix of different ML models"
   ]
  },
  {
   "cell_type": "code",
   "execution_count": null,
   "id": "6d5ffe2d",
   "metadata": {},
   "outputs": [],
   "source": [
    "import matplotlib.pyplot  as plt\n",
    "# set width of bar\n",
    "barWidth = 0.25\n",
    "fig = plt.subplots(figsize =(10, 6))\n",
    " \n",
    "# set height of bar\n",
    "Mean = [94.73, 93.85, 96.49, 92.98, 89.47]\n",
    "StandardError = [92.10, 87.71, 94.73, 90.35, 93.85]\n",
    "Worst = [94.73, 96.49, 97.36, 94.73, 96.49]\n",
    " \n",
    "# Set position of bar on X axis\n",
    "br1 = np.arange(len(Mean))\n",
    "br2 = [x + barWidth for x in br1]\n",
    "br3 = [x + barWidth for x in br2]\n",
    " \n",
    "# Make the plot\n",
    "plt.bar(br1, Mean, color ='r', width = barWidth,\n",
    "        edgecolor ='grey', label ='Mean')\n",
    "plt.bar(br2, StandardError, color ='g', width = barWidth,\n",
    "        edgecolor ='grey', label ='StandardError')\n",
    "plt.bar(br3, Worst, color ='b', width = barWidth,\n",
    "        edgecolor ='grey', label ='Worst')\n",
    " \n",
    "# Adding Xticks\n",
    "plt.xlabel('Machine Learning Models', fontweight ='bold', fontsize = 20)\n",
    "plt.ylabel('Accuracy', fontweight ='bold', fontsize = 20)\n",
    "plt.xticks([r + barWidth for r in range(len(Mean))],\n",
    "        ['SVM', 'Decision Tree', 'Random Forest', 'Naive Bayes',  'Logistic Regression'])\n",
    " \n",
    "plt.legend()\n",
    "plt.show()"
   ]
  },
  {
   "attachments": {
    "Mean_SE_Worst_PreviousProposedAnalysis.PNG": {
     "image/png": "[encoded data removed]"
    }
   },
   "cell_type": "markdown",
   "id": "bb3c0d62",
   "metadata": {},
   "source": [
    "![Mean_SE_Worst_PreviousProposedAnalysis.PNG](attachment:Mean_SE_Worst_PreviousProposedAnalysis.PNG)"
   ]
  },
  {
   "cell_type": "markdown",
   "id": "50b1b064",
   "metadata": {},
   "source": [
    "# MODULE-2\n",
    "### Apllying ML Models on the whole DataSet"
   ]
  },
  {
   "cell_type": "markdown",
   "id": "a22c0bad",
   "metadata": {},
   "source": [
    "### Label encoding"
   ]
  },
  {
   "cell_type": "code",
   "execution_count": null,
   "id": "91ba2664",
   "metadata": {},
   "outputs": [],
   "source": [
    "from sklearn.preprocessing import LabelEncoder\n",
    "#transform the class labels from their original string representation (M and B) into integers\n",
    "label_encoder = LabelEncoder()\n",
    "df['diagnosis']=label_encoder.fit_transform(df['diagnosis'])\n",
    "df"
   ]
  },
  {
   "cell_type": "code",
   "execution_count": null,
   "id": "4ea296c8",
   "metadata": {},
   "outputs": [],
   "source": [
    "new_dt=df.drop(['id'],axis=1)"
   ]
  },
  {
   "cell_type": "code",
   "execution_count": null,
   "id": "afd73785",
   "metadata": {},
   "outputs": [],
   "source": [
    "new_dt"
   ]
  },
  {
   "cell_type": "code",
   "execution_count": null,
   "id": "91dfdc25",
   "metadata": {},
   "outputs": [],
   "source": [
    "y_module2=new_dt['diagnosis']\n",
    "x_module2=new_dt.drop(['diagnosis'],axis=1)"
   ]
  },
  {
   "cell_type": "code",
   "execution_count": null,
   "id": "4cf7b5e8",
   "metadata": {},
   "outputs": [],
   "source": [
    "x_module2,y_module2"
   ]
  },
  {
   "cell_type": "code",
   "execution_count": null,
   "id": "1fadc436",
   "metadata": {},
   "outputs": [],
   "source": [
    "## Normalize the  data (center around 0 and scale to remove the variance).\n",
    "from sklearn.preprocessing import MinMaxScaler\n",
    "scaler=MinMaxScaler()\n",
    "pre_processed_data=scaler.fit_transform(x_module2)"
   ]
  },
  {
   "cell_type": "code",
   "execution_count": null,
   "id": "e29aa564",
   "metadata": {},
   "outputs": [],
   "source": [
    "print(pre_processed_data)"
   ]
  },
  {
   "cell_type": "code",
   "execution_count": null,
   "id": "1322433a",
   "metadata": {},
   "outputs": [],
   "source": [
    "df_module2=pd.DataFrame(pre_processed_data)"
   ]
  },
  {
   "cell_type": "code",
   "execution_count": null,
   "id": "c109e853",
   "metadata": {},
   "outputs": [],
   "source": [
    "df_module2"
   ]
  },
  {
   "cell_type": "markdown",
   "id": "dfe99ff8",
   "metadata": {},
   "source": [
    "### Splitting the data into Training data & Testing data"
   ]
  },
  {
   "cell_type": "code",
   "execution_count": null,
   "id": "1dc30836",
   "metadata": {},
   "outputs": [],
   "source": [
    "from sklearn.model_selection import train_test_split\n",
    "x_train,x_test,y_train,y_test=train_test_split(df_module2,y_module2,test_size=0.2,random_state=42)"
   ]
  },
  {
   "cell_type": "code",
   "execution_count": null,
   "id": "852b2123",
   "metadata": {},
   "outputs": [],
   "source": [
    "print(x_train.size)\n",
    "print(x_test.size)\n",
    "print(y_train.size)\n",
    "print(y_test.size)"
   ]
  },
  {
   "cell_type": "markdown",
   "id": "7544cbff",
   "metadata": {},
   "source": [
    "# Part_4.2: Model Training and Evaluation"
   ]
  },
  {
   "cell_type": "markdown",
   "id": "ce0a3de3",
   "metadata": {},
   "source": [
    "## 4.2.1: Without Feature Engineering"
   ]
  },
  {
   "cell_type": "markdown",
   "id": "2a6a3c86",
   "metadata": {},
   "source": [
    "## 1) SVM"
   ]
  },
  {
   "cell_type": "code",
   "execution_count": null,
   "id": "4279f4fb",
   "metadata": {},
   "outputs": [],
   "source": [
    "from sklearn.metrics import confusion_matrix\n",
    "from sklearn.metrics import accuracy_score\n",
    "from sklearn.metrics import precision_score\n",
    "from sklearn.metrics import recall_score"
   ]
  },
  {
   "cell_type": "code",
   "execution_count": null,
   "id": "1a819f78",
   "metadata": {},
   "outputs": [],
   "source": [
    "from sklearn import svm\n",
    "model_svm=svm.SVC()\n",
    "model_svm.fit(x_train,y_train)"
   ]
  },
  {
   "cell_type": "code",
   "execution_count": null,
   "id": "997a96b4",
   "metadata": {},
   "outputs": [],
   "source": [
    "y_pred_svm=model_svm.predict(x_test)  #predict values\n",
    "print(y_pred_svm,y_test)"
   ]
  },
  {
   "cell_type": "code",
   "execution_count": null,
   "id": "40727748",
   "metadata": {},
   "outputs": [],
   "source": [
    "print(\"Confusion matrix of SVM is: \\n\",confusion_matrix(y_test,y_pred_svm))\n",
    "print(\"Accuracy of SVM is:\",accuracy_score(y_pred_svm,y_test)*100)\n",
    "print(\"Precision of SVM is:\",precision_score(y_test,y_pred_svm)*100)\n",
    "print(\"Recall of SVM is:\",recall_score(y_test,y_pred_svm)*100)"
   ]
  },
  {
   "cell_type": "markdown",
   "id": "001a9444",
   "metadata": {},
   "source": [
    "## 2) Decision Tree"
   ]
  },
  {
   "cell_type": "code",
   "execution_count": null,
   "id": "f259e9f1",
   "metadata": {},
   "outputs": [],
   "source": [
    "from sklearn.tree import DecisionTreeClassifier\n",
    "model_dt=DecisionTreeClassifier()\n",
    "model_dt.fit(x_train,y_train)"
   ]
  },
  {
   "cell_type": "code",
   "execution_count": null,
   "id": "20346c4f",
   "metadata": {},
   "outputs": [],
   "source": [
    "y_pred_dt=model_dt.predict(x_test)\n",
    "print(y_pred_dt,y_test)"
   ]
  },
  {
   "cell_type": "code",
   "execution_count": null,
   "id": "aec44928",
   "metadata": {},
   "outputs": [],
   "source": [
    "print(\"Confusion matrix of Decision Tree Classifier is: \\n\",confusion_matrix(y_test,y_pred_dt))\n",
    "print(\"Accuracy of Decision Tree Classifier is:\",accuracy_score(y_pred_dt,y_test)*100)\n",
    "print(\"Precision of Decision Tree Classifier is:\",precision_score(y_test,y_pred_dt)*100)\n",
    "print(\"Recall of Decision Tree Classifier is:\",recall_score(y_test,y_pred_dt)*100)"
   ]
  },
  {
   "cell_type": "markdown",
   "id": "ca5492d9",
   "metadata": {},
   "source": [
    "## 3) Random Forest"
   ]
  },
  {
   "cell_type": "code",
   "execution_count": null,
   "id": "71e5f524",
   "metadata": {},
   "outputs": [],
   "source": [
    "from sklearn.ensemble import RandomForestClassifier\n",
    "model_rf=RandomForestClassifier()\n",
    "model_rf.fit(x_train,y_train)"
   ]
  },
  {
   "cell_type": "code",
   "execution_count": null,
   "id": "e7b7cb0c",
   "metadata": {},
   "outputs": [],
   "source": [
    "y_pred_rf=model_rf.predict(x_test)\n",
    "print(y_pred_rf,y_test)"
   ]
  },
  {
   "cell_type": "code",
   "execution_count": null,
   "id": "aa50c4a3",
   "metadata": {},
   "outputs": [],
   "source": [
    "print(\"Confusion matrix of Random Forest is: \\n\",confusion_matrix(y_test,y_pred_rf))\n",
    "print(\"Accuracy of Random Forest is:\",accuracy_score(y_pred_rf,y_test)*100)\n",
    "print(\"Precision of Random Forest is:\",precision_score(y_test,y_pred_rf)*100)\n",
    "print(\"Recall of Random Forest is:\",recall_score(y_test,y_pred_rf)*100)"
   ]
  },
  {
   "cell_type": "markdown",
   "id": "3b0f0df3",
   "metadata": {},
   "source": [
    "## 4) Naive Bayes"
   ]
  },
  {
   "cell_type": "code",
   "execution_count": null,
   "id": "50f1f82c",
   "metadata": {},
   "outputs": [],
   "source": [
    "from sklearn.naive_bayes import GaussianNB\n",
    "model_nb=GaussianNB()\n",
    "model_nb.fit(x_train,y_train)"
   ]
  },
  {
   "cell_type": "code",
   "execution_count": null,
   "id": "62ebddf0",
   "metadata": {},
   "outputs": [],
   "source": [
    "y_pred_nb=model_nb.predict(x_test)\n",
    "print(y_pred_nb,y_test)"
   ]
  },
  {
   "cell_type": "code",
   "execution_count": null,
   "id": "31bc95ff",
   "metadata": {},
   "outputs": [],
   "source": [
    "print(\"Confusion matrix of Naive Bayes is: \\n\",confusion_matrix(y_test,y_pred_nb))\n",
    "print(\"Accuracy of Naive Bayes is:\",accuracy_score(y_pred_nb,y_test)*100)\n",
    "print(\"Precision of Naive Bayes is:\",precision_score(y_test,y_pred_nb)*100)\n",
    "print(\"Recall of Naive Bayes is:\",recall_score(y_test,y_pred_nb)*100)"
   ]
  },
  {
   "cell_type": "markdown",
   "id": "92efb90e",
   "metadata": {},
   "source": [
    "## 5) Logistic Regression"
   ]
  },
  {
   "cell_type": "code",
   "execution_count": null,
   "id": "5d73fdc8",
   "metadata": {},
   "outputs": [],
   "source": [
    "from sklearn.linear_model import LogisticRegression\n",
    "model_lr=LogisticRegression()\n",
    "model_lr.fit(x_train,y_train)"
   ]
  },
  {
   "cell_type": "code",
   "execution_count": null,
   "id": "f8d7a73b",
   "metadata": {},
   "outputs": [],
   "source": [
    "y_pred_lr=model_lr.predict(x_test)\n",
    "print(y_pred_lr,y_test)"
   ]
  },
  {
   "cell_type": "code",
   "execution_count": null,
   "id": "e2ebae27",
   "metadata": {},
   "outputs": [],
   "source": [
    "print(\"Confusion matrix of Logistic Regression is: \\n\",confusion_matrix(y_test,y_pred_lr))\n",
    "print(\"Accuracy of Logistic Regression is:\",accuracy_score(y_pred_lr,y_test)*100)\n",
    "print(\"Precision of Logistic Regression is:\",precision_score(y_test,y_pred_lr)*100)\n",
    "print(\"Recall of Logistic Regression is:\",recall_score(y_test,y_pred_lr)*100)"
   ]
  },
  {
   "cell_type": "markdown",
   "id": "403678e1",
   "metadata": {},
   "source": [
    "## 4.2.2: After Applying PCA"
   ]
  },
  {
   "cell_type": "code",
   "execution_count": null,
   "id": "15ad5198",
   "metadata": {},
   "outputs": [],
   "source": [
    "from sklearn.decomposition import PCA\n",
    "pca=PCA(n_components=12) \n",
    "xnew=pca.fit_transform(x_module2)\n",
    "xnew"
   ]
  },
  {
   "cell_type": "code",
   "execution_count": null,
   "id": "50eaf893",
   "metadata": {},
   "outputs": [],
   "source": [
    "xnew.shape"
   ]
  },
  {
   "cell_type": "code",
   "execution_count": null,
   "id": "1897259c",
   "metadata": {},
   "outputs": [],
   "source": [
    "# Splitting into Training and Testing data \n",
    "from sklearn.model_selection import train_test_split\n",
    "x_train,x_test,y_train,y_test=train_test_split(xnew,y_module2,test_size=0.2,random_state=42)"
   ]
  },
  {
   "cell_type": "markdown",
   "id": "6a2aa1c6",
   "metadata": {},
   "source": [
    "## 1) SVM"
   ]
  },
  {
   "cell_type": "code",
   "execution_count": null,
   "id": "85c5ccc3",
   "metadata": {},
   "outputs": [],
   "source": [
    "from sklearn import svm\n",
    "model_svm=svm.SVC()\n",
    "model_svm.fit(x_train,y_train)"
   ]
  },
  {
   "cell_type": "code",
   "execution_count": null,
   "id": "ec58d9a8",
   "metadata": {},
   "outputs": [],
   "source": [
    "y_pred_svm=model_svm.predict(x_test)\n",
    "print(y_pred_svm)"
   ]
  },
  {
   "cell_type": "code",
   "execution_count": null,
   "id": "d4b41879",
   "metadata": {},
   "outputs": [],
   "source": [
    "print(\"Confusion matrix of SVM is: \\n\",confusion_matrix(y_test,y_pred_svm))\n",
    "print(\"Accuracy of SVM is:\",accuracy_score(y_test,y_pred_svm)*100)\n",
    "print(\"Precision of SVM is:\",precision_score(y_test,y_pred_svm)*100)\n",
    "print(\"Recall of SVM is:\",recall_score(y_test,y_pred_svm)*100)"
   ]
  },
  {
   "cell_type": "markdown",
   "id": "64d19dbc",
   "metadata": {},
   "source": [
    "## 2) Decision Tree"
   ]
  },
  {
   "cell_type": "code",
   "execution_count": null,
   "id": "f4edfd1a",
   "metadata": {},
   "outputs": [],
   "source": [
    "from sklearn.tree import DecisionTreeClassifier\n",
    "model_dt=DecisionTreeClassifier()\n",
    "model_dt.fit(x_train,y_train)"
   ]
  },
  {
   "cell_type": "code",
   "execution_count": null,
   "id": "6d181820",
   "metadata": {},
   "outputs": [],
   "source": [
    "y_pred_dt=model_dt.predict(x_test)\n",
    "print(y_pred_dt)"
   ]
  },
  {
   "cell_type": "code",
   "execution_count": null,
   "id": "5de0966b",
   "metadata": {},
   "outputs": [],
   "source": [
    "print(\"Confusion matrix of Decision Tree is: \\n\",confusion_matrix(y_test,y_pred_dt))\n",
    "print(\"Accuracy of Decision Tree is:\",accuracy_score(y_pred_dt,y_test)*100)\n",
    "print(\"Precision of Decision Tree is:\",precision_score(y_test,y_pred_dt)*100)\n",
    "print(\"Recall of Decision Tree is:\",recall_score(y_test,y_pred_dt)*100)"
   ]
  },
  {
   "cell_type": "markdown",
   "id": "b00d24dd",
   "metadata": {},
   "source": [
    "## 3) Random Forest"
   ]
  },
  {
   "cell_type": "code",
   "execution_count": null,
   "id": "d8311d71",
   "metadata": {},
   "outputs": [],
   "source": [
    "from sklearn.ensemble import RandomForestClassifier\n",
    "model_rf=RandomForestClassifier()\n",
    "model_rf.fit(x_train,y_train)"
   ]
  },
  {
   "cell_type": "code",
   "execution_count": null,
   "id": "47c30fa1",
   "metadata": {},
   "outputs": [],
   "source": [
    "y_pred_rf=model_rf.predict(x_test)\n",
    "print(y_pred_rf)"
   ]
  },
  {
   "cell_type": "code",
   "execution_count": null,
   "id": "c8cf2f37",
   "metadata": {},
   "outputs": [],
   "source": [
    "print(\"Confusion matrix of Random Forest is: \\n\",confusion_matrix(y_test,y_pred_rf))\n",
    "print(\"Accuracy of Random Forest is:\",accuracy_score(y_pred_rf,y_test)*100)\n",
    "print(\"Precision of Random Forest is:\",precision_score(y_test,y_pred_rf)*100)\n",
    "print(\"Recall of Random Forest is:\",recall_score(y_test,y_pred_rf)*100)"
   ]
  },
  {
   "cell_type": "markdown",
   "id": "d9388327",
   "metadata": {},
   "source": [
    "## 4) Naive Bayes"
   ]
  },
  {
   "cell_type": "code",
   "execution_count": null,
   "id": "b9bc2b85",
   "metadata": {},
   "outputs": [],
   "source": [
    "from sklearn.naive_bayes import GaussianNB\n",
    "model_nb=GaussianNB()\n",
    "model_nb.fit(x_train,y_train)"
   ]
  },
  {
   "cell_type": "code",
   "execution_count": null,
   "id": "b4b2eb0f",
   "metadata": {},
   "outputs": [],
   "source": [
    "y_pred_nb=model_nb.predict(x_test)\n",
    "print(y_pred_nb)"
   ]
  },
  {
   "cell_type": "code",
   "execution_count": null,
   "id": "ddd21f43",
   "metadata": {},
   "outputs": [],
   "source": [
    "print(\"Confusion matrix of Naive Bayes is: \\n\",confusion_matrix(y_test,y_pred_nb))\n",
    "print(\"Accuracy of Naive Bayes is:\",accuracy_score(y_pred_nb,y_test)*100)\n",
    "print(\"Precision of Naive Bayes is:\",precision_score(y_test,y_pred_nb)*100)\n",
    "print(\"Recall of Naive Bayes is:\",recall_score(y_test,y_pred_nb)*100)"
   ]
  },
  {
   "cell_type": "markdown",
   "id": "a955ee59",
   "metadata": {},
   "source": [
    "## 5)Logistic Regression "
   ]
  },
  {
   "cell_type": "code",
   "execution_count": null,
   "id": "89507b06",
   "metadata": {},
   "outputs": [],
   "source": [
    "from sklearn.linear_model import LogisticRegression\n",
    "model_lr=LogisticRegression(max_iter=1000,random_state=42)\n",
    "model_lr.fit(x_train,y_train)"
   ]
  },
  {
   "cell_type": "code",
   "execution_count": null,
   "id": "f10462e1",
   "metadata": {},
   "outputs": [],
   "source": [
    "y_pred_lr=model_lr.predict(x_test)\n",
    "print(y_pred_lr)"
   ]
  },
  {
   "cell_type": "code",
   "execution_count": null,
   "id": "3f4e975a",
   "metadata": {},
   "outputs": [],
   "source": [
    "print(\"Confusion matrix of Logistic regression is: \\n\",confusion_matrix(y_test,y_pred_lr))\n",
    "print(\"Accuracy of Logistic Regression is:\",accuracy_score(y_pred_lr,y_test)*100)\n",
    "print(\"Precision of Logistic Regression is:\",precision_score(y_test,y_pred_lr)*100)\n",
    "print(\"Recall of Logistic Regression is:\",recall_score(y_test,y_pred_lr)*100)"
   ]
  },
  {
   "cell_type": "markdown",
   "id": "29ef259a",
   "metadata": {},
   "source": [
    "### - Graphical Representation of Comparison of Accuracy of Proposed(4.2.1 ML Models) and Previous Models  "
   ]
  },
  {
   "cell_type": "code",
   "execution_count": null,
   "id": "9be4b172",
   "metadata": {},
   "outputs": [],
   "source": [
    "# set width of bar\n",
    "barWidth = 0.25\n",
    "fig = plt.subplots(figsize =(10, 6))\n",
    " \n",
    "# set height of bar\n",
    "Proposed_Model = [97.37, 93.85, 96.49, 96.49, 98.24]\n",
    "Previous_Model= [96.00, 95.00, 96.00, 92.00, 94.00]\n",
    "\n",
    " \n",
    "# Set position of bar on X axis\n",
    "br1 = np.arange(len(Proposed_Model))\n",
    "br2 = [x + barWidth for x in br1]\n",
    "\n",
    " \n",
    "# Make the plot\n",
    "plt.bar(br1, Mean, color ='g', width = barWidth,\n",
    "        edgecolor ='grey', label ='Proposed')\n",
    "plt.bar(br2, StandardError, color ='b', width = barWidth,\n",
    "        edgecolor ='grey', label ='Previous')\n",
    "\n",
    " \n",
    "# Adding Xticks\n",
    "plt.xlabel('Machine Learning Models', fontweight ='bold', fontsize = 20)\n",
    "plt.ylabel('Accuracy', fontweight ='bold', fontsize = 20)\n",
    "plt.xticks([r + barWidth for r in range(len(Proposed_Model))],\n",
    "        ['SVM', 'Decision Tree', 'Random Forest', 'Naive Bayes',  'Logistic Regression'])\n",
    " \n",
    "plt.legend()\n",
    "plt.show()"
   ]
  },
  {
   "attachments": {
    "Previous_Proposed_WholeDataSet.PNG": {
     "image/png": "[encoded data removed]"
    }
   },
   "cell_type": "markdown",
   "id": "bf6cda1e",
   "metadata": {},
   "source": [
    "![Previous_Proposed_WholeDataSet.PNG](attachment:Previous_Proposed_WholeDataSet.PNG)"
   ]
  },
  {
   "cell_type": "markdown",
   "id": "db49d519",
   "metadata": {},
   "source": [
    "### - Graphical Comparative Analysis of Accuracy of 4.2.1 ML Models(Without PCA) and 4.2.2 Models(With PCA)"
   ]
  },
  {
   "cell_type": "code",
   "execution_count": null,
   "id": "e47c551f",
   "metadata": {},
   "outputs": [],
   "source": [
    "# set width of bar\n",
    "barWidth = 0.25\n",
    "fig = plt.subplots(figsize =(10, 6))\n",
    " \n",
    "# set height of bar\n",
    "Without_PCA = [97.36, 93.85, 96.49, 96.49, 98.24]\n",
    "With_PCA= [94.73, 92.10 , 94.73, 92.10, 95.61]\n",
    "\n",
    " \n",
    "# Set position of bar on X axis\n",
    "br1 = np.arange(len(Without_PCA))\n",
    "br2 = [x + barWidth for x in br1]\n",
    "\n",
    " \n",
    "# Make the plot\n",
    "plt.bar(br1, Mean, color ='g', width = barWidth,\n",
    "        edgecolor ='grey', label ='Without PCA')\n",
    "plt.bar(br2, StandardError, color ='b', width = barWidth,\n",
    "        edgecolor ='grey', label ='With PCA')\n",
    "\n",
    " \n",
    "# Adding Xticks\n",
    "plt.xlabel('Machine Learning Models', fontweight ='bold', fontsize = 20)\n",
    "plt.ylabel('Accuracy', fontweight ='bold', fontsize = 20)\n",
    "plt.xticks([r + barWidth for r in range(len(Without_PCA))],\n",
    "        ['SVM', 'Decision Tree', 'Random Forest', 'Naive Bayes',  'Logistic Regression'])\n",
    " \n",
    "plt.legend()\n",
    "plt.show()"
   ]
  },
  {
   "attachments": {
    "WithPCA_WithoutPCA.PNG": {
     "image/png": "[encoded data removed]"
    }
   },
   "cell_type": "markdown",
   "id": "4a9b2fe7",
   "metadata": {},
   "source": [
    "![WithPCA_WithoutPCA.PNG](attachment:WithPCA_WithoutPCA.PNG)"
   ]
  },
  {
   "cell_type": "code",
   "execution_count": null,
   "id": "924e552e",
   "metadata": {},
   "outputs": [],
   "source": []
  }
 ],
 "metadata": {
  "kernelspec": {
   "display_name": "Python 3 (ipykernel)",
   "language": "python",
   "name": "python3"
  },
  "language_info": {
   "codemirror_mode": {
    "name": "ipython",
    "version": 3
   },
   "file_extension": ".py",
   "mimetype": "text/x-python",
   "name": "python",
   "nbconvert_exporter": "python",
   "pygments_lexer": "ipython3",
   "version": "3.10.8"
  }
 },
 "nbformat": 4,
 "nbformat_minor": 5
}
